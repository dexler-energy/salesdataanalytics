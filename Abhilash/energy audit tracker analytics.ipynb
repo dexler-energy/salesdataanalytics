{
 "cells": [
  {
   "cell_type": "code",
   "execution_count": 195,
   "metadata": {},
   "outputs": [],
   "source": [
    "# Import required packages\n",
    "import pandas as pd\n",
    "import numpy as np\n",
    "import matplotlib.pyplot as plt\n",
    "from matplotlib.pyplot import pie, axis, show\n",
    "import seaborn as sns"
   ]
  },
  {
   "cell_type": "code",
   "execution_count": 109,
   "metadata": {},
   "outputs": [],
   "source": [
    "#Import data\n",
    "data = pd.read_excel(\"ENERGY AUDIT TRACKER DATA.xlsx\")"
   ]
  },
  {
   "cell_type": "code",
   "execution_count": 110,
   "metadata": {},
   "outputs": [
    {
     "data": {
      "text/plain": [
       "Index(['S NO', 'COMPANY NAME', 'CUSTOMER INDUSTRY', 'LAST ACTION TAKEN',\n",
       "       'NEXT ACTION TAKEN', 'STATUS', 'LEAD SOURCE', 'PRIORITY',\n",
       "       'DEXLER CONTACT', 'DISTRICT', 'STATE', 'CONTACT PERSON', 'PHONE',\n",
       "       'DESIGNATION', 'EMAIL-ID', 'EA PROPOSAL', 'EA PROPOSAL DATE',\n",
       "       'CUSTOMER RESPONSE', 'WORK ORDER', 'EA DATE', 'Remarks'],\n",
       "      dtype='object')"
      ]
     },
     "execution_count": 110,
     "metadata": {},
     "output_type": "execute_result"
    }
   ],
   "source": [
    "# View columns of the data\n",
    "data.columns"
   ]
  },
  {
   "cell_type": "code",
   "execution_count": 111,
   "metadata": {
    "scrolled": true
   },
   "outputs": [
    {
     "data": {
      "text/html": [
       "<div>\n",
       "<style scoped>\n",
       "    .dataframe tbody tr th:only-of-type {\n",
       "        vertical-align: middle;\n",
       "    }\n",
       "\n",
       "    .dataframe tbody tr th {\n",
       "        vertical-align: top;\n",
       "    }\n",
       "\n",
       "    .dataframe thead th {\n",
       "        text-align: right;\n",
       "    }\n",
       "</style>\n",
       "<table border=\"1\" class=\"dataframe\">\n",
       "  <thead>\n",
       "    <tr style=\"text-align: right;\">\n",
       "      <th></th>\n",
       "      <th>S NO</th>\n",
       "      <th>COMPANY NAME</th>\n",
       "      <th>CUSTOMER INDUSTRY</th>\n",
       "      <th>LAST ACTION TAKEN</th>\n",
       "      <th>NEXT ACTION TAKEN</th>\n",
       "      <th>STATUS</th>\n",
       "      <th>LEAD SOURCE</th>\n",
       "      <th>PRIORITY</th>\n",
       "      <th>DEXLER CONTACT</th>\n",
       "      <th>DISTRICT</th>\n",
       "      <th>...</th>\n",
       "      <th>CONTACT PERSON</th>\n",
       "      <th>PHONE</th>\n",
       "      <th>DESIGNATION</th>\n",
       "      <th>EMAIL-ID</th>\n",
       "      <th>EA PROPOSAL</th>\n",
       "      <th>EA PROPOSAL DATE</th>\n",
       "      <th>CUSTOMER RESPONSE</th>\n",
       "      <th>WORK ORDER</th>\n",
       "      <th>EA DATE</th>\n",
       "      <th>Remarks</th>\n",
       "    </tr>\n",
       "  </thead>\n",
       "  <tbody>\n",
       "    <tr>\n",
       "      <th>0</th>\n",
       "      <td>1</td>\n",
       "      <td>Akshaya Patra</td>\n",
       "      <td>Food Processing</td>\n",
       "      <td>2016-08-25 00:00:00</td>\n",
       "      <td>2017-04-03 00:00:00</td>\n",
       "      <td>Disqualified</td>\n",
       "      <td>Internal</td>\n",
       "      <td>COLD</td>\n",
       "      <td>Ikram</td>\n",
       "      <td>Bangalore</td>\n",
       "      <td>...</td>\n",
       "      <td></td>\n",
       "      <td></td>\n",
       "      <td></td>\n",
       "      <td></td>\n",
       "      <td>YES</td>\n",
       "      <td>NaN</td>\n",
       "      <td>NO</td>\n",
       "      <td>NOT RECIEVED</td>\n",
       "      <td></td>\n",
       "      <td>Not Interested</td>\n",
       "    </tr>\n",
       "    <tr>\n",
       "      <th>1</th>\n",
       "      <td>2</td>\n",
       "      <td>Avtec Ltd. Plot no. S-3/I, Sector-III Pithampu...</td>\n",
       "      <td>Automobile &amp; Ancillary</td>\n",
       "      <td>2015-01-09 00:00:00</td>\n",
       "      <td></td>\n",
       "      <td>Disqualified</td>\n",
       "      <td></td>\n",
       "      <td>COLD</td>\n",
       "      <td>Anuj</td>\n",
       "      <td>Indore</td>\n",
       "      <td>...</td>\n",
       "      <td>Pradeep Jain</td>\n",
       "      <td>7292256134</td>\n",
       "      <td>Manager</td>\n",
       "      <td>pradeep.jain@avtec.in</td>\n",
       "      <td>NO</td>\n",
       "      <td>NaN</td>\n",
       "      <td>YES</td>\n",
       "      <td>NOT RECIEVED</td>\n",
       "      <td></td>\n",
       "      <td>Prem did a site study - no scope for EA</td>\n",
       "    </tr>\n",
       "    <tr>\n",
       "      <th>2</th>\n",
       "      <td>3</td>\n",
       "      <td>Terex</td>\n",
       "      <td>Automobile &amp; Ancillary</td>\n",
       "      <td>2016-08-25 00:00:00</td>\n",
       "      <td>2017-04-03 00:00:00</td>\n",
       "      <td>Disqualified</td>\n",
       "      <td>Internal</td>\n",
       "      <td>COLD</td>\n",
       "      <td>Ikram</td>\n",
       "      <td>Hosur</td>\n",
       "      <td>...</td>\n",
       "      <td></td>\n",
       "      <td></td>\n",
       "      <td></td>\n",
       "      <td></td>\n",
       "      <td>YES</td>\n",
       "      <td>NaN</td>\n",
       "      <td>NO</td>\n",
       "      <td></td>\n",
       "      <td></td>\n",
       "      <td>Need to Speak with Ugesh - He is taking care o...</td>\n",
       "    </tr>\n",
       "    <tr>\n",
       "      <th>3</th>\n",
       "      <td>4</td>\n",
       "      <td>Bajrang Agro-industries</td>\n",
       "      <td>Food Processing</td>\n",
       "      <td>2015-01-09 00:00:00</td>\n",
       "      <td></td>\n",
       "      <td>Disqualified</td>\n",
       "      <td></td>\n",
       "      <td>COLD</td>\n",
       "      <td>Anuj</td>\n",
       "      <td>Indore</td>\n",
       "      <td>...</td>\n",
       "      <td></td>\n",
       "      <td>7697900539</td>\n",
       "      <td>Technical head</td>\n",
       "      <td>Atul pardesi</td>\n",
       "      <td>NO</td>\n",
       "      <td>NaN</td>\n",
       "      <td>YES</td>\n",
       "      <td>NOT RECIEVED</td>\n",
       "      <td></td>\n",
       "      <td>New Plant - Single shift - No big scope for EA</td>\n",
       "    </tr>\n",
       "    <tr>\n",
       "      <th>4</th>\n",
       "      <td>5</td>\n",
       "      <td>TVS Motors</td>\n",
       "      <td>Automobile &amp; Ancillary</td>\n",
       "      <td>2016-11-07 00:00:00</td>\n",
       "      <td>2016-11-14 00:00:00</td>\n",
       "      <td>Lead</td>\n",
       "      <td>Internal</td>\n",
       "      <td>COLD</td>\n",
       "      <td>Ikram</td>\n",
       "      <td>Hosur</td>\n",
       "      <td>...</td>\n",
       "      <td></td>\n",
       "      <td></td>\n",
       "      <td></td>\n",
       "      <td></td>\n",
       "      <td>YES</td>\n",
       "      <td>NaN</td>\n",
       "      <td>NO</td>\n",
       "      <td></td>\n",
       "      <td></td>\n",
       "      <td>No Customer Response</td>\n",
       "    </tr>\n",
       "  </tbody>\n",
       "</table>\n",
       "<p>5 rows × 21 columns</p>\n",
       "</div>"
      ],
      "text/plain": [
       "   S NO                                       COMPANY NAME  \\\n",
       "0     1                                      Akshaya Patra   \n",
       "1     2  Avtec Ltd. Plot no. S-3/I, Sector-III Pithampu...   \n",
       "2     3                                              Terex   \n",
       "3     4                            Bajrang Agro-industries   \n",
       "4     5                                         TVS Motors   \n",
       "\n",
       "        CUSTOMER INDUSTRY    LAST ACTION TAKEN    NEXT ACTION TAKEN  \\\n",
       "0         Food Processing  2016-08-25 00:00:00  2017-04-03 00:00:00   \n",
       "1  Automobile & Ancillary  2015-01-09 00:00:00                        \n",
       "2  Automobile & Ancillary  2016-08-25 00:00:00  2017-04-03 00:00:00   \n",
       "3         Food Processing  2015-01-09 00:00:00                        \n",
       "4  Automobile & Ancillary  2016-11-07 00:00:00  2016-11-14 00:00:00   \n",
       "\n",
       "         STATUS LEAD SOURCE PRIORITY DEXLER CONTACT   DISTRICT  ...  \\\n",
       "0  Disqualified    Internal     COLD          Ikram  Bangalore  ...   \n",
       "1  Disqualified                 COLD           Anuj     Indore  ...   \n",
       "2  Disqualified    Internal     COLD          Ikram      Hosur  ...   \n",
       "3  Disqualified                 COLD           Anuj     Indore  ...   \n",
       "4          Lead    Internal     COLD          Ikram      Hosur  ...   \n",
       "\n",
       "  CONTACT PERSON       PHONE     DESIGNATION               EMAIL-ID  \\\n",
       "0                                                                     \n",
       "1   Pradeep Jain  7292256134         Manager  pradeep.jain@avtec.in   \n",
       "2                                                                     \n",
       "3                 7697900539  Technical head           Atul pardesi   \n",
       "4                                                                     \n",
       "\n",
       "  EA PROPOSAL EA PROPOSAL DATE CUSTOMER RESPONSE    WORK ORDER EA DATE  \\\n",
       "0         YES              NaN                NO  NOT RECIEVED           \n",
       "1          NO              NaN               YES  NOT RECIEVED           \n",
       "2         YES              NaN                NO                         \n",
       "3          NO              NaN               YES  NOT RECIEVED           \n",
       "4         YES              NaN                NO                         \n",
       "\n",
       "                                             Remarks  \n",
       "0                                     Not Interested  \n",
       "1            Prem did a site study - no scope for EA  \n",
       "2  Need to Speak with Ugesh - He is taking care o...  \n",
       "3     New Plant - Single shift - No big scope for EA  \n",
       "4                               No Customer Response  \n",
       "\n",
       "[5 rows x 21 columns]"
      ]
     },
     "execution_count": 111,
     "metadata": {},
     "output_type": "execute_result"
    }
   ],
   "source": [
    "# View data\n",
    "data.head()"
   ]
  },
  {
   "cell_type": "code",
   "execution_count": 112,
   "metadata": {},
   "outputs": [
    {
     "data": {
      "text/html": [
       "<div>\n",
       "<style scoped>\n",
       "    .dataframe tbody tr th:only-of-type {\n",
       "        vertical-align: middle;\n",
       "    }\n",
       "\n",
       "    .dataframe tbody tr th {\n",
       "        vertical-align: top;\n",
       "    }\n",
       "\n",
       "    .dataframe thead th {\n",
       "        text-align: right;\n",
       "    }\n",
       "</style>\n",
       "<table border=\"1\" class=\"dataframe\">\n",
       "  <thead>\n",
       "    <tr style=\"text-align: right;\">\n",
       "      <th></th>\n",
       "      <th>CUSTOMER INDUSTRY</th>\n",
       "      <th>STATUS</th>\n",
       "      <th>LEAD SOURCE</th>\n",
       "      <th>PRIORITY</th>\n",
       "      <th>DEXLER CONTACT</th>\n",
       "      <th>STATE</th>\n",
       "      <th>CONTACT PERSON</th>\n",
       "      <th>PHONE</th>\n",
       "      <th>DESIGNATION</th>\n",
       "      <th>EMAIL-ID</th>\n",
       "      <th>EA PROPOSAL</th>\n",
       "      <th>CUSTOMER RESPONSE</th>\n",
       "      <th>WORK ORDER</th>\n",
       "    </tr>\n",
       "  </thead>\n",
       "  <tbody>\n",
       "    <tr>\n",
       "      <th>0</th>\n",
       "      <td>Food Processing</td>\n",
       "      <td>Disqualified</td>\n",
       "      <td>Internal</td>\n",
       "      <td>COLD</td>\n",
       "      <td>Ikram</td>\n",
       "      <td>Karnataka</td>\n",
       "      <td></td>\n",
       "      <td></td>\n",
       "      <td></td>\n",
       "      <td></td>\n",
       "      <td>YES</td>\n",
       "      <td>NO</td>\n",
       "      <td>NOT RECIEVED</td>\n",
       "    </tr>\n",
       "    <tr>\n",
       "      <th>1</th>\n",
       "      <td>Automobile &amp; Ancillary</td>\n",
       "      <td>Disqualified</td>\n",
       "      <td></td>\n",
       "      <td>COLD</td>\n",
       "      <td>Anuj</td>\n",
       "      <td>Madhya Pradesh</td>\n",
       "      <td>Pradeep Jain</td>\n",
       "      <td>7292256134</td>\n",
       "      <td>Manager</td>\n",
       "      <td>pradeep.jain@avtec.in</td>\n",
       "      <td>NO</td>\n",
       "      <td>YES</td>\n",
       "      <td>NOT RECIEVED</td>\n",
       "    </tr>\n",
       "    <tr>\n",
       "      <th>2</th>\n",
       "      <td>Automobile &amp; Ancillary</td>\n",
       "      <td>Disqualified</td>\n",
       "      <td>Internal</td>\n",
       "      <td>COLD</td>\n",
       "      <td>Ikram</td>\n",
       "      <td>Tamilnadu</td>\n",
       "      <td></td>\n",
       "      <td></td>\n",
       "      <td></td>\n",
       "      <td></td>\n",
       "      <td>YES</td>\n",
       "      <td>NO</td>\n",
       "      <td></td>\n",
       "    </tr>\n",
       "    <tr>\n",
       "      <th>3</th>\n",
       "      <td>Food Processing</td>\n",
       "      <td>Disqualified</td>\n",
       "      <td></td>\n",
       "      <td>COLD</td>\n",
       "      <td>Anuj</td>\n",
       "      <td>Madhya Pradesh</td>\n",
       "      <td></td>\n",
       "      <td>7697900539</td>\n",
       "      <td>Technical head</td>\n",
       "      <td>Atul pardesi</td>\n",
       "      <td>NO</td>\n",
       "      <td>YES</td>\n",
       "      <td>NOT RECIEVED</td>\n",
       "    </tr>\n",
       "    <tr>\n",
       "      <th>4</th>\n",
       "      <td>Automobile &amp; Ancillary</td>\n",
       "      <td>Lead</td>\n",
       "      <td>Internal</td>\n",
       "      <td>COLD</td>\n",
       "      <td>Ikram</td>\n",
       "      <td>Tamilnadu</td>\n",
       "      <td></td>\n",
       "      <td></td>\n",
       "      <td></td>\n",
       "      <td></td>\n",
       "      <td>YES</td>\n",
       "      <td>NO</td>\n",
       "      <td></td>\n",
       "    </tr>\n",
       "  </tbody>\n",
       "</table>\n",
       "</div>"
      ],
      "text/plain": [
       "        CUSTOMER INDUSTRY        STATUS LEAD SOURCE PRIORITY DEXLER CONTACT  \\\n",
       "0         Food Processing  Disqualified    Internal     COLD          Ikram   \n",
       "1  Automobile & Ancillary  Disqualified                 COLD           Anuj   \n",
       "2  Automobile & Ancillary  Disqualified    Internal     COLD          Ikram   \n",
       "3         Food Processing  Disqualified                 COLD           Anuj   \n",
       "4  Automobile & Ancillary          Lead    Internal     COLD          Ikram   \n",
       "\n",
       "            STATE CONTACT PERSON       PHONE     DESIGNATION  \\\n",
       "0       Karnataka                                              \n",
       "1  Madhya Pradesh   Pradeep Jain  7292256134         Manager   \n",
       "2       Tamilnadu                                              \n",
       "3  Madhya Pradesh                 7697900539  Technical head   \n",
       "4       Tamilnadu                                              \n",
       "\n",
       "                EMAIL-ID EA PROPOSAL CUSTOMER RESPONSE    WORK ORDER  \n",
       "0                                YES                NO  NOT RECIEVED  \n",
       "1  pradeep.jain@avtec.in          NO               YES  NOT RECIEVED  \n",
       "2                                YES                NO                \n",
       "3           Atul pardesi          NO               YES  NOT RECIEVED  \n",
       "4                                YES                NO                "
      ]
     },
     "execution_count": 112,
     "metadata": {},
     "output_type": "execute_result"
    }
   ],
   "source": [
    "# Remove columns not used for analysis\n",
    "data = data[['CUSTOMER INDUSTRY','STATUS', 'LEAD SOURCE', 'PRIORITY',\n",
    "       'DEXLER CONTACT', 'STATE', 'CONTACT PERSON', 'PHONE',\n",
    "       'DESIGNATION', 'EMAIL-ID', 'EA PROPOSAL', \n",
    "       'CUSTOMER RESPONSE', 'WORK ORDER']]\n",
    "# Convert phone field to string\n",
    "data[\"PHONE\"]=data[\"PHONE\"].apply(str)\n",
    "data.head()"
   ]
  },
  {
   "cell_type": "code",
   "execution_count": 113,
   "metadata": {},
   "outputs": [
    {
     "data": {
      "text/html": [
       "<div>\n",
       "<style scoped>\n",
       "    .dataframe tbody tr th:only-of-type {\n",
       "        vertical-align: middle;\n",
       "    }\n",
       "\n",
       "    .dataframe tbody tr th {\n",
       "        vertical-align: top;\n",
       "    }\n",
       "\n",
       "    .dataframe thead th {\n",
       "        text-align: right;\n",
       "    }\n",
       "</style>\n",
       "<table border=\"1\" class=\"dataframe\">\n",
       "  <thead>\n",
       "    <tr style=\"text-align: right;\">\n",
       "      <th></th>\n",
       "      <th>CUSTOMER INDUSTRY</th>\n",
       "      <th>STATUS</th>\n",
       "      <th>LEAD SOURCE</th>\n",
       "      <th>PRIORITY</th>\n",
       "      <th>DEXLER CONTACT</th>\n",
       "      <th>STATE</th>\n",
       "      <th>CONTACT PERSON</th>\n",
       "      <th>PHONE</th>\n",
       "      <th>DESIGNATION</th>\n",
       "      <th>EMAIL-ID</th>\n",
       "      <th>EA PROPOSAL</th>\n",
       "      <th>CUSTOMER RESPONSE</th>\n",
       "      <th>WORK ORDER</th>\n",
       "      <th>CONTACT</th>\n",
       "    </tr>\n",
       "  </thead>\n",
       "  <tbody>\n",
       "    <tr>\n",
       "      <th>0</th>\n",
       "      <td>Food Processing</td>\n",
       "      <td>Disqualified</td>\n",
       "      <td>Internal</td>\n",
       "      <td>COLD</td>\n",
       "      <td>Ikram</td>\n",
       "      <td>Karnataka</td>\n",
       "      <td></td>\n",
       "      <td></td>\n",
       "      <td></td>\n",
       "      <td></td>\n",
       "      <td>YES</td>\n",
       "      <td>NO</td>\n",
       "      <td>NOT RECIEVED</td>\n",
       "      <td></td>\n",
       "    </tr>\n",
       "    <tr>\n",
       "      <th>1</th>\n",
       "      <td>Automobile &amp; Ancillary</td>\n",
       "      <td>Disqualified</td>\n",
       "      <td></td>\n",
       "      <td>COLD</td>\n",
       "      <td>Anuj</td>\n",
       "      <td>Madhya Pradesh</td>\n",
       "      <td>Pradeep Jain</td>\n",
       "      <td>7292256134</td>\n",
       "      <td>Manager</td>\n",
       "      <td>pradeep.jain@avtec.in</td>\n",
       "      <td>NO</td>\n",
       "      <td>YES</td>\n",
       "      <td>NOT RECIEVED</td>\n",
       "      <td>Pradeep Jain, Manager, pradeep.jain@avtec.in, ...</td>\n",
       "    </tr>\n",
       "    <tr>\n",
       "      <th>2</th>\n",
       "      <td>Automobile &amp; Ancillary</td>\n",
       "      <td>Disqualified</td>\n",
       "      <td>Internal</td>\n",
       "      <td>COLD</td>\n",
       "      <td>Ikram</td>\n",
       "      <td>Tamilnadu</td>\n",
       "      <td></td>\n",
       "      <td></td>\n",
       "      <td></td>\n",
       "      <td></td>\n",
       "      <td>YES</td>\n",
       "      <td>NO</td>\n",
       "      <td></td>\n",
       "      <td></td>\n",
       "    </tr>\n",
       "    <tr>\n",
       "      <th>3</th>\n",
       "      <td>Food Processing</td>\n",
       "      <td>Disqualified</td>\n",
       "      <td></td>\n",
       "      <td>COLD</td>\n",
       "      <td>Anuj</td>\n",
       "      <td>Madhya Pradesh</td>\n",
       "      <td></td>\n",
       "      <td>7697900539</td>\n",
       "      <td>Technical head</td>\n",
       "      <td>Atul pardesi</td>\n",
       "      <td>NO</td>\n",
       "      <td>YES</td>\n",
       "      <td>NOT RECIEVED</td>\n",
       "      <td>, Technical head, Atul pardesi, (7697900539)</td>\n",
       "    </tr>\n",
       "    <tr>\n",
       "      <th>4</th>\n",
       "      <td>Automobile &amp; Ancillary</td>\n",
       "      <td>Lead</td>\n",
       "      <td>Internal</td>\n",
       "      <td>COLD</td>\n",
       "      <td>Ikram</td>\n",
       "      <td>Tamilnadu</td>\n",
       "      <td></td>\n",
       "      <td></td>\n",
       "      <td></td>\n",
       "      <td></td>\n",
       "      <td>YES</td>\n",
       "      <td>NO</td>\n",
       "      <td></td>\n",
       "      <td></td>\n",
       "    </tr>\n",
       "  </tbody>\n",
       "</table>\n",
       "</div>"
      ],
      "text/plain": [
       "        CUSTOMER INDUSTRY        STATUS LEAD SOURCE PRIORITY DEXLER CONTACT  \\\n",
       "0         Food Processing  Disqualified    Internal     COLD          Ikram   \n",
       "1  Automobile & Ancillary  Disqualified                 COLD           Anuj   \n",
       "2  Automobile & Ancillary  Disqualified    Internal     COLD          Ikram   \n",
       "3         Food Processing  Disqualified                 COLD           Anuj   \n",
       "4  Automobile & Ancillary          Lead    Internal     COLD          Ikram   \n",
       "\n",
       "            STATE CONTACT PERSON       PHONE     DESIGNATION  \\\n",
       "0       Karnataka                                              \n",
       "1  Madhya Pradesh   Pradeep Jain  7292256134         Manager   \n",
       "2       Tamilnadu                                              \n",
       "3  Madhya Pradesh                 7697900539  Technical head   \n",
       "4       Tamilnadu                                              \n",
       "\n",
       "                EMAIL-ID EA PROPOSAL CUSTOMER RESPONSE    WORK ORDER  \\\n",
       "0                                YES                NO  NOT RECIEVED   \n",
       "1  pradeep.jain@avtec.in          NO               YES  NOT RECIEVED   \n",
       "2                                YES                NO                 \n",
       "3           Atul pardesi          NO               YES  NOT RECIEVED   \n",
       "4                                YES                NO                 \n",
       "\n",
       "                                             CONTACT  \n",
       "0                                                     \n",
       "1  Pradeep Jain, Manager, pradeep.jain@avtec.in, ...  \n",
       "2                                                     \n",
       "3       , Technical head, Atul pardesi, (7697900539)  \n",
       "4                                                     "
      ]
     },
     "execution_count": 113,
     "metadata": {},
     "output_type": "execute_result"
    }
   ],
   "source": [
    "# Combine Contact person, phone, email and designation field\n",
    "data[\"CONTACT\"] = data[\"CONTACT PERSON\"]+', '+data[\"DESIGNATION\"]+\", \"+data[\"EMAIL-ID\"]+\", (\"+data[\"PHONE\"]+\")\"\n",
    "# convert data with ',,,()' to ' '\n",
    "data['CONTACT'][data[\"CONTACT\"]==' ,  ,  , ( )'] = ''\n",
    "data.head()"
   ]
  },
  {
   "cell_type": "code",
   "execution_count": 114,
   "metadata": {},
   "outputs": [
    {
     "data": {
      "text/html": [
       "<div>\n",
       "<style scoped>\n",
       "    .dataframe tbody tr th:only-of-type {\n",
       "        vertical-align: middle;\n",
       "    }\n",
       "\n",
       "    .dataframe tbody tr th {\n",
       "        vertical-align: top;\n",
       "    }\n",
       "\n",
       "    .dataframe thead th {\n",
       "        text-align: right;\n",
       "    }\n",
       "</style>\n",
       "<table border=\"1\" class=\"dataframe\">\n",
       "  <thead>\n",
       "    <tr style=\"text-align: right;\">\n",
       "      <th></th>\n",
       "      <th>CUSTOMER INDUSTRY</th>\n",
       "      <th>STATUS</th>\n",
       "      <th>LEAD SOURCE</th>\n",
       "      <th>PRIORITY</th>\n",
       "      <th>DEXLER CONTACT</th>\n",
       "      <th>STATE</th>\n",
       "      <th>EA PROPOSAL</th>\n",
       "      <th>CUSTOMER RESPONSE</th>\n",
       "      <th>WORK ORDER</th>\n",
       "      <th>CONTACT</th>\n",
       "    </tr>\n",
       "  </thead>\n",
       "  <tbody>\n",
       "    <tr>\n",
       "      <th>0</th>\n",
       "      <td>Food Processing</td>\n",
       "      <td>Disqualified</td>\n",
       "      <td>Internal</td>\n",
       "      <td>COLD</td>\n",
       "      <td>Ikram</td>\n",
       "      <td>Karnataka</td>\n",
       "      <td>YES</td>\n",
       "      <td>NO</td>\n",
       "      <td>NOT RECIEVED</td>\n",
       "      <td></td>\n",
       "    </tr>\n",
       "    <tr>\n",
       "      <th>1</th>\n",
       "      <td>Automobile &amp; Ancillary</td>\n",
       "      <td>Disqualified</td>\n",
       "      <td></td>\n",
       "      <td>COLD</td>\n",
       "      <td>Anuj</td>\n",
       "      <td>Madhya Pradesh</td>\n",
       "      <td>NO</td>\n",
       "      <td>YES</td>\n",
       "      <td>NOT RECIEVED</td>\n",
       "      <td>Pradeep Jain, Manager, pradeep.jain@avtec.in, ...</td>\n",
       "    </tr>\n",
       "    <tr>\n",
       "      <th>2</th>\n",
       "      <td>Automobile &amp; Ancillary</td>\n",
       "      <td>Disqualified</td>\n",
       "      <td>Internal</td>\n",
       "      <td>COLD</td>\n",
       "      <td>Ikram</td>\n",
       "      <td>Tamilnadu</td>\n",
       "      <td>YES</td>\n",
       "      <td>NO</td>\n",
       "      <td></td>\n",
       "      <td></td>\n",
       "    </tr>\n",
       "    <tr>\n",
       "      <th>3</th>\n",
       "      <td>Food Processing</td>\n",
       "      <td>Disqualified</td>\n",
       "      <td></td>\n",
       "      <td>COLD</td>\n",
       "      <td>Anuj</td>\n",
       "      <td>Madhya Pradesh</td>\n",
       "      <td>NO</td>\n",
       "      <td>YES</td>\n",
       "      <td>NOT RECIEVED</td>\n",
       "      <td>, Technical head, Atul pardesi, (7697900539)</td>\n",
       "    </tr>\n",
       "    <tr>\n",
       "      <th>4</th>\n",
       "      <td>Automobile &amp; Ancillary</td>\n",
       "      <td>Lead</td>\n",
       "      <td>Internal</td>\n",
       "      <td>COLD</td>\n",
       "      <td>Ikram</td>\n",
       "      <td>Tamilnadu</td>\n",
       "      <td>YES</td>\n",
       "      <td>NO</td>\n",
       "      <td></td>\n",
       "      <td></td>\n",
       "    </tr>\n",
       "  </tbody>\n",
       "</table>\n",
       "</div>"
      ],
      "text/plain": [
       "        CUSTOMER INDUSTRY        STATUS LEAD SOURCE PRIORITY DEXLER CONTACT  \\\n",
       "0         Food Processing  Disqualified    Internal     COLD          Ikram   \n",
       "1  Automobile & Ancillary  Disqualified                 COLD           Anuj   \n",
       "2  Automobile & Ancillary  Disqualified    Internal     COLD          Ikram   \n",
       "3         Food Processing  Disqualified                 COLD           Anuj   \n",
       "4  Automobile & Ancillary          Lead    Internal     COLD          Ikram   \n",
       "\n",
       "            STATE EA PROPOSAL CUSTOMER RESPONSE    WORK ORDER  \\\n",
       "0       Karnataka         YES                NO  NOT RECIEVED   \n",
       "1  Madhya Pradesh          NO               YES  NOT RECIEVED   \n",
       "2       Tamilnadu         YES                NO                 \n",
       "3  Madhya Pradesh          NO               YES  NOT RECIEVED   \n",
       "4       Tamilnadu         YES                NO                 \n",
       "\n",
       "                                             CONTACT  \n",
       "0                                                     \n",
       "1  Pradeep Jain, Manager, pradeep.jain@avtec.in, ...  \n",
       "2                                                     \n",
       "3       , Technical head, Atul pardesi, (7697900539)  \n",
       "4                                                     "
      ]
     },
     "execution_count": 114,
     "metadata": {},
     "output_type": "execute_result"
    }
   ],
   "source": [
    "# Delete the fields other than contact\n",
    "data = data[['CUSTOMER INDUSTRY', 'STATUS', 'LEAD SOURCE', 'PRIORITY',\n",
    "       'DEXLER CONTACT', 'STATE', 'EA PROPOSAL', 'CUSTOMER RESPONSE', 'WORK ORDER',\n",
    "       'CONTACT']]\n",
    "data.head()"
   ]
  },
  {
   "cell_type": "code",
   "execution_count": 150,
   "metadata": {},
   "outputs": [],
   "source": [
    "# Save clean data in a txt file\n",
    "data.to_csv(\"EAT_clean.csv\",sep=',',index=False)"
   ]
  },
  {
   "cell_type": "markdown",
   "metadata": {},
   "source": [
    "### Preliminary Analysis"
   ]
  },
  {
   "cell_type": "code",
   "execution_count": 151,
   "metadata": {},
   "outputs": [],
   "source": [
    "init_data = pd.read_csv(\"EAT_clean.csv\")"
   ]
  },
  {
   "cell_type": "code",
   "execution_count": 152,
   "metadata": {},
   "outputs": [
    {
     "data": {
      "text/plain": [
       "Index(['CUSTOMER INDUSTRY', 'STATUS', 'LEAD SOURCE', 'PRIORITY',\n",
       "       'DEXLER CONTACT', 'STATE', 'EA PROPOSAL', 'CUSTOMER RESPONSE',\n",
       "       'WORK ORDER', 'CONTACT'],\n",
       "      dtype='object')"
      ]
     },
     "execution_count": 152,
     "metadata": {},
     "output_type": "execute_result"
    }
   ],
   "source": [
    "init_data.columns"
   ]
  },
  {
   "cell_type": "code",
   "execution_count": 153,
   "metadata": {},
   "outputs": [
    {
     "name": "stdout",
     "output_type": "stream",
     "text": [
      "['Karnataka' 'Madhya Pradesh' 'Tamilnadu' 'Punjab' 'Pondicherry'\n",
      " 'Maharashtra' 'Andhra Pradesh' 'Telangana']\n"
     ]
    }
   ],
   "source": [
    "#Check values of state\n",
    "print(init_data[\"STATE\"].unique())"
   ]
  },
  {
   "cell_type": "code",
   "execution_count": 154,
   "metadata": {},
   "outputs": [
    {
     "name": "stdout",
     "output_type": "stream",
     "text": [
      "['Food Processing' 'Automobile' 'Commercial' 'Textile' 'Glass' 'Tyre'\n",
      " 'Plastics' 'Rubber' 'Chemical' 'Healthcare' 'Ceramic' 'Steel' 'Dairy'\n",
      " 'Forging and Castings' 'Aluminium ' 'Home appliances' 'Space' 'Garments'\n",
      " 'Hotel']\n",
      "['Food Processing' 'Automobile' 'Commercial' 'Textile' 'Glass' 'Rubber'\n",
      " 'Plastics' 'Chemical' 'Healthcare' 'Ceramic' 'Metals'\n",
      " 'Forging and Castings' 'Home appliances' 'Space' 'Garments' 'Hotel']\n"
     ]
    }
   ],
   "source": [
    "# Check values of customer industry\n",
    "print(init_data[\"CUSTOMER INDUSTRY\"].unique())\n",
    "init_data[\"CUSTOMER INDUSTRY\"][init_data[\"CUSTOMER INDUSTRY\"]=='Automobile & Ancillary'] = 'Automobile'\n",
    "init_data[\"CUSTOMER INDUSTRY\"][init_data[\"CUSTOMER INDUSTRY\"]=='Food processing'] = 'Food Processing'\n",
    "init_data[\"CUSTOMER INDUSTRY\"][init_data[\"CUSTOMER INDUSTRY\"]=='Dairy'] = 'Food Processing'\n",
    "init_data[\"CUSTOMER INDUSTRY\"][init_data[\"CUSTOMER INDUSTRY\"]=='Tyre'] = 'Rubber'\n",
    "init_data[\"CUSTOMER INDUSTRY\"][init_data[\"CUSTOMER INDUSTRY\"]=='Steel'] = 'Metals'\n",
    "init_data[\"CUSTOMER INDUSTRY\"][init_data[\"CUSTOMER INDUSTRY\"]=='Aluminium '] = 'Metals'\n",
    "print(init_data[\"CUSTOMER INDUSTRY\"].unique())"
   ]
  },
  {
   "cell_type": "code",
   "execution_count": 155,
   "metadata": {},
   "outputs": [
    {
     "data": {
      "text/plain": [
       "array(['Disqualified', 'Lead', 'Hold', 'walk in audit required'],\n",
       "      dtype=object)"
      ]
     },
     "execution_count": 155,
     "metadata": {},
     "output_type": "execute_result"
    }
   ],
   "source": [
    "#Check values of Status\n",
    "init_data[\"STATUS\"].unique()"
   ]
  },
  {
   "cell_type": "code",
   "execution_count": 156,
   "metadata": {},
   "outputs": [
    {
     "name": "stdout",
     "output_type": "stream",
     "text": [
      "['Internal' ' ' nan]\n",
      "['Internal' nan]\n"
     ]
    }
   ],
   "source": [
    "# Check values of Lead Source\n",
    "print(init_data['LEAD SOURCE'].unique())\n",
    "init_data['LEAD SOURCE'][init_data['LEAD SOURCE']==' '] = np.nan\n",
    "print(init_data['LEAD SOURCE'].unique())"
   ]
  },
  {
   "cell_type": "code",
   "execution_count": 158,
   "metadata": {},
   "outputs": [
    {
     "name": "stdout",
     "output_type": "stream",
     "text": [
      "['COLD' 'WARM' 'HOT' 'MEDIUM' 'cold']\n",
      "['COLD' 'WARM' 'HOT' 'MEDIUM']\n"
     ]
    }
   ],
   "source": [
    "# Check values of Priority\n",
    "print(init_data['PRIORITY'].unique())\n",
    "init_data['PRIORITY'][init_data['PRIORITY']=='cold'] = 'COLD'\n",
    "print(init_data['PRIORITY'].unique())"
   ]
  },
  {
   "cell_type": "code",
   "execution_count": 162,
   "metadata": {},
   "outputs": [
    {
     "name": "stdout",
     "output_type": "stream",
     "text": [
      "['Ikram' 'Anuj Singh Tomar' 'Karan' 'Premkumar' 'Gurpreet' 'Dinesh'\n",
      " 'Piyush' 'Premkumar/Karan' 'Piyush/Karan']\n",
      "['Ikram' 'Anuj Singh Tomar' 'Karan' 'Premkumar' 'Gurpreet' 'Dinesh'\n",
      " 'Piyush']\n"
     ]
    }
   ],
   "source": [
    "# Check values of Dexler contact\n",
    "print(init_data['DEXLER CONTACT'].unique())\n",
    "init_data['DEXLER CONTACT'][init_data['DEXLER CONTACT']=='Anuj'] = 'Anuj Singh Tomar'\n",
    "init_data['DEXLER CONTACT'][init_data['DEXLER CONTACT']=='Premkumar/Karan'] = 'Karan'\n",
    "init_data['DEXLER CONTACT'][init_data['DEXLER CONTACT']=='Piyush/Karan'] = 'Piyush'\n",
    "print(init_data['DEXLER CONTACT'].unique())"
   ]
  },
  {
   "cell_type": "code",
   "execution_count": 164,
   "metadata": {},
   "outputs": [
    {
     "name": "stdout",
     "output_type": "stream",
     "text": [
      "['YES' 'NO' 'Yes']\n",
      "['YES' 'NO']\n"
     ]
    }
   ],
   "source": [
    "# Check values of EA PROPOSAL\n",
    "print(init_data['EA PROPOSAL'].unique())\n",
    "init_data['EA PROPOSAL'][init_data['EA PROPOSAL']=='Yes'] = 'YES'\n",
    "print(init_data['EA PROPOSAL'].unique())"
   ]
  },
  {
   "cell_type": "code",
   "execution_count": 166,
   "metadata": {},
   "outputs": [
    {
     "name": "stdout",
     "output_type": "stream",
     "text": [
      "['NO' 'YES' ' ' nan]\n",
      "['NO' 'YES' nan]\n"
     ]
    }
   ],
   "source": [
    "# Check values of CUSTOMER RESPONSE\n",
    "print(init_data['CUSTOMER RESPONSE'].unique())\n",
    "init_data['CUSTOMER RESPONSE'][init_data['CUSTOMER RESPONSE']==' '] = np.nan\n",
    "print(init_data['CUSTOMER RESPONSE'].unique())"
   ]
  },
  {
   "cell_type": "code",
   "execution_count": 168,
   "metadata": {},
   "outputs": [
    {
     "name": "stdout",
     "output_type": "stream",
     "text": [
      "['NOT RECIEVED' ' ' 'RECIEVED' 'our team not interested' 'PO awaited'\n",
      " 'Payment for A1 received' 'Proposal submitted']\n",
      "['NOT RECEIVED' nan 'RECEIVED' 'NOT INTERESTED']\n"
     ]
    }
   ],
   "source": [
    "# Check values of WORK ORDER\n",
    "print(init_data['WORK ORDER'].unique())\n",
    "init_data['WORK ORDER'][init_data['WORK ORDER']=='our team not interested'] = 'NOT INTERESTED'\n",
    "init_data['WORK ORDER'][init_data['WORK ORDER']=='PO awaited'] = 'NOT RECEIVED'\n",
    "init_data['WORK ORDER'][init_data['WORK ORDER']=='Payment for A1 received'] = 'RECEIVED'\n",
    "init_data['WORK ORDER'][init_data['WORK ORDER']=='Proposal submitted'] = 'RECEIVED'\n",
    "init_data['WORK ORDER'][init_data['WORK ORDER']=='NOT RECIEVED'] = 'NOT RECEIVED'\n",
    "init_data['WORK ORDER'][init_data['WORK ORDER']=='RECIEVED'] = 'RECEIVED'\n",
    "init_data['WORK ORDER'][init_data['WORK ORDER']==' '] = np.nan\n",
    "print(init_data['WORK ORDER'].unique())"
   ]
  },
  {
   "cell_type": "code",
   "execution_count": 181,
   "metadata": {
    "scrolled": true
   },
   "outputs": [
    {
     "data": {
      "text/plain": [
       "0      True\n",
       "1     False\n",
       "2      True\n",
       "3     False\n",
       "4      True\n",
       "5     False\n",
       "6      True\n",
       "7      True\n",
       "8      True\n",
       "9     False\n",
       "10     True\n",
       "11    False\n",
       "12     True\n",
       "13    False\n",
       "14     True\n",
       "15    False\n",
       "16    False\n",
       "17     True\n",
       "18    False\n",
       "19    False\n",
       "20    False\n",
       "21     True\n",
       "22    False\n",
       "23    False\n",
       "24    False\n",
       "25    False\n",
       "26     True\n",
       "27     True\n",
       "28    False\n",
       "29    False\n",
       "      ...  \n",
       "33    False\n",
       "34    False\n",
       "35    False\n",
       "36    False\n",
       "37     True\n",
       "38    False\n",
       "39    False\n",
       "40    False\n",
       "41    False\n",
       "42    False\n",
       "43    False\n",
       "44    False\n",
       "45    False\n",
       "46    False\n",
       "47    False\n",
       "48    False\n",
       "49    False\n",
       "50    False\n",
       "51    False\n",
       "52     True\n",
       "53    False\n",
       "54    False\n",
       "55    False\n",
       "56    False\n",
       "57     True\n",
       "58    False\n",
       "59    False\n",
       "60    False\n",
       "61    False\n",
       "62     True\n",
       "Name: CONTACT, Length: 63, dtype: bool"
      ]
     },
     "execution_count": 181,
     "metadata": {},
     "output_type": "execute_result"
    }
   ],
   "source": [
    "# Check values of CONTACT\n",
    "init_data['CONTACT'].isnull()"
   ]
  },
  {
   "cell_type": "code",
   "execution_count": 187,
   "metadata": {
    "scrolled": true
   },
   "outputs": [
    {
     "data": {
      "text/html": [
       "<div>\n",
       "<style scoped>\n",
       "    .dataframe tbody tr th:only-of-type {\n",
       "        vertical-align: middle;\n",
       "    }\n",
       "\n",
       "    .dataframe tbody tr th {\n",
       "        vertical-align: top;\n",
       "    }\n",
       "\n",
       "    .dataframe thead th {\n",
       "        text-align: right;\n",
       "    }\n",
       "</style>\n",
       "<table border=\"1\" class=\"dataframe\">\n",
       "  <thead>\n",
       "    <tr style=\"text-align: right;\">\n",
       "      <th></th>\n",
       "      <th>CUSTOMER INDUSTRY</th>\n",
       "      <th>STATUS</th>\n",
       "      <th>LEAD SOURCE</th>\n",
       "      <th>PRIORITY</th>\n",
       "      <th>DEXLER CONTACT</th>\n",
       "      <th>STATE</th>\n",
       "      <th>EA PROPOSAL</th>\n",
       "      <th>CUSTOMER RESPONSE</th>\n",
       "      <th>WORK ORDER</th>\n",
       "      <th>CONTACT</th>\n",
       "    </tr>\n",
       "  </thead>\n",
       "  <tbody>\n",
       "    <tr>\n",
       "      <th>0</th>\n",
       "      <td>Food Processing</td>\n",
       "      <td>Disqualified</td>\n",
       "      <td>Internal</td>\n",
       "      <td>COLD</td>\n",
       "      <td>Ikram</td>\n",
       "      <td>Karnataka</td>\n",
       "      <td>YES</td>\n",
       "      <td>NO</td>\n",
       "      <td>NOT RECEIVED</td>\n",
       "      <td>NaN</td>\n",
       "    </tr>\n",
       "    <tr>\n",
       "      <th>1</th>\n",
       "      <td>Automobile</td>\n",
       "      <td>Disqualified</td>\n",
       "      <td>NaN</td>\n",
       "      <td>COLD</td>\n",
       "      <td>Anuj Singh Tomar</td>\n",
       "      <td>Madhya Pradesh</td>\n",
       "      <td>NO</td>\n",
       "      <td>YES</td>\n",
       "      <td>NOT RECEIVED</td>\n",
       "      <td>Pradeep Jain, Manager, pradeep.jain@avtec.in, ...</td>\n",
       "    </tr>\n",
       "    <tr>\n",
       "      <th>2</th>\n",
       "      <td>Automobile</td>\n",
       "      <td>Disqualified</td>\n",
       "      <td>Internal</td>\n",
       "      <td>COLD</td>\n",
       "      <td>Ikram</td>\n",
       "      <td>Tamilnadu</td>\n",
       "      <td>YES</td>\n",
       "      <td>NO</td>\n",
       "      <td>NaN</td>\n",
       "      <td>NaN</td>\n",
       "    </tr>\n",
       "    <tr>\n",
       "      <th>3</th>\n",
       "      <td>Food Processing</td>\n",
       "      <td>Disqualified</td>\n",
       "      <td>NaN</td>\n",
       "      <td>COLD</td>\n",
       "      <td>Anuj Singh Tomar</td>\n",
       "      <td>Madhya Pradesh</td>\n",
       "      <td>NO</td>\n",
       "      <td>YES</td>\n",
       "      <td>NOT RECEIVED</td>\n",
       "      <td>, Technical head, Atul pardesi, (7697900539)</td>\n",
       "    </tr>\n",
       "    <tr>\n",
       "      <th>4</th>\n",
       "      <td>Automobile</td>\n",
       "      <td>Lead</td>\n",
       "      <td>Internal</td>\n",
       "      <td>COLD</td>\n",
       "      <td>Ikram</td>\n",
       "      <td>Tamilnadu</td>\n",
       "      <td>YES</td>\n",
       "      <td>NO</td>\n",
       "      <td>NaN</td>\n",
       "      <td>NaN</td>\n",
       "    </tr>\n",
       "  </tbody>\n",
       "</table>\n",
       "</div>"
      ],
      "text/plain": [
       "  CUSTOMER INDUSTRY        STATUS LEAD SOURCE PRIORITY    DEXLER CONTACT  \\\n",
       "0   Food Processing  Disqualified    Internal     COLD             Ikram   \n",
       "1        Automobile  Disqualified         NaN     COLD  Anuj Singh Tomar   \n",
       "2        Automobile  Disqualified    Internal     COLD             Ikram   \n",
       "3   Food Processing  Disqualified         NaN     COLD  Anuj Singh Tomar   \n",
       "4        Automobile          Lead    Internal     COLD             Ikram   \n",
       "\n",
       "            STATE EA PROPOSAL CUSTOMER RESPONSE    WORK ORDER  \\\n",
       "0       Karnataka         YES                NO  NOT RECEIVED   \n",
       "1  Madhya Pradesh          NO               YES  NOT RECEIVED   \n",
       "2       Tamilnadu         YES                NO           NaN   \n",
       "3  Madhya Pradesh          NO               YES  NOT RECEIVED   \n",
       "4       Tamilnadu         YES                NO           NaN   \n",
       "\n",
       "                                             CONTACT  \n",
       "0                                                NaN  \n",
       "1  Pradeep Jain, Manager, pradeep.jain@avtec.in, ...  \n",
       "2                                                NaN  \n",
       "3       , Technical head, Atul pardesi, (7697900539)  \n",
       "4                                                NaN  "
      ]
     },
     "execution_count": 187,
     "metadata": {},
     "output_type": "execute_result"
    }
   ],
   "source": [
    "init_data.head()"
   ]
  },
  {
   "cell_type": "code",
   "execution_count": 183,
   "metadata": {},
   "outputs": [],
   "source": [
    "# Save clean data in a txt file\n",
    "init_data.to_csv(\"EAT_clean_2.csv\",sep=',',index=False)"
   ]
  },
  {
   "cell_type": "markdown",
   "metadata": {},
   "source": [
    "### Analysis of Data"
   ]
  },
  {
   "cell_type": "code",
   "execution_count": 184,
   "metadata": {},
   "outputs": [],
   "source": [
    "data_2 = pd.read_csv(\"EAT_clean_2.csv\")"
   ]
  },
  {
   "cell_type": "code",
   "execution_count": 188,
   "metadata": {},
   "outputs": [
    {
     "data": {
      "text/html": [
       "<div>\n",
       "<style scoped>\n",
       "    .dataframe tbody tr th:only-of-type {\n",
       "        vertical-align: middle;\n",
       "    }\n",
       "\n",
       "    .dataframe tbody tr th {\n",
       "        vertical-align: top;\n",
       "    }\n",
       "\n",
       "    .dataframe thead th {\n",
       "        text-align: right;\n",
       "    }\n",
       "</style>\n",
       "<table border=\"1\" class=\"dataframe\">\n",
       "  <thead>\n",
       "    <tr style=\"text-align: right;\">\n",
       "      <th></th>\n",
       "      <th>CUSTOMER INDUSTRY</th>\n",
       "      <th>STATUS</th>\n",
       "      <th>LEAD SOURCE</th>\n",
       "      <th>PRIORITY</th>\n",
       "      <th>DEXLER CONTACT</th>\n",
       "      <th>STATE</th>\n",
       "      <th>EA PROPOSAL</th>\n",
       "      <th>CUSTOMER RESPONSE</th>\n",
       "      <th>WORK ORDER</th>\n",
       "      <th>CONTACT</th>\n",
       "    </tr>\n",
       "  </thead>\n",
       "  <tbody>\n",
       "    <tr>\n",
       "      <th>0</th>\n",
       "      <td>Food Processing</td>\n",
       "      <td>Disqualified</td>\n",
       "      <td>Internal</td>\n",
       "      <td>COLD</td>\n",
       "      <td>Ikram</td>\n",
       "      <td>Karnataka</td>\n",
       "      <td>YES</td>\n",
       "      <td>NO</td>\n",
       "      <td>NOT RECEIVED</td>\n",
       "      <td>NaN</td>\n",
       "    </tr>\n",
       "    <tr>\n",
       "      <th>1</th>\n",
       "      <td>Automobile</td>\n",
       "      <td>Disqualified</td>\n",
       "      <td>NaN</td>\n",
       "      <td>COLD</td>\n",
       "      <td>Anuj Singh Tomar</td>\n",
       "      <td>Madhya Pradesh</td>\n",
       "      <td>NO</td>\n",
       "      <td>YES</td>\n",
       "      <td>NOT RECEIVED</td>\n",
       "      <td>Pradeep Jain, Manager, pradeep.jain@avtec.in, ...</td>\n",
       "    </tr>\n",
       "    <tr>\n",
       "      <th>2</th>\n",
       "      <td>Automobile</td>\n",
       "      <td>Disqualified</td>\n",
       "      <td>Internal</td>\n",
       "      <td>COLD</td>\n",
       "      <td>Ikram</td>\n",
       "      <td>Tamilnadu</td>\n",
       "      <td>YES</td>\n",
       "      <td>NO</td>\n",
       "      <td>NaN</td>\n",
       "      <td>NaN</td>\n",
       "    </tr>\n",
       "    <tr>\n",
       "      <th>3</th>\n",
       "      <td>Food Processing</td>\n",
       "      <td>Disqualified</td>\n",
       "      <td>NaN</td>\n",
       "      <td>COLD</td>\n",
       "      <td>Anuj Singh Tomar</td>\n",
       "      <td>Madhya Pradesh</td>\n",
       "      <td>NO</td>\n",
       "      <td>YES</td>\n",
       "      <td>NOT RECEIVED</td>\n",
       "      <td>, Technical head, Atul pardesi, (7697900539)</td>\n",
       "    </tr>\n",
       "    <tr>\n",
       "      <th>4</th>\n",
       "      <td>Automobile</td>\n",
       "      <td>Lead</td>\n",
       "      <td>Internal</td>\n",
       "      <td>COLD</td>\n",
       "      <td>Ikram</td>\n",
       "      <td>Tamilnadu</td>\n",
       "      <td>YES</td>\n",
       "      <td>NO</td>\n",
       "      <td>NaN</td>\n",
       "      <td>NaN</td>\n",
       "    </tr>\n",
       "  </tbody>\n",
       "</table>\n",
       "</div>"
      ],
      "text/plain": [
       "  CUSTOMER INDUSTRY        STATUS LEAD SOURCE PRIORITY    DEXLER CONTACT  \\\n",
       "0   Food Processing  Disqualified    Internal     COLD             Ikram   \n",
       "1        Automobile  Disqualified         NaN     COLD  Anuj Singh Tomar   \n",
       "2        Automobile  Disqualified    Internal     COLD             Ikram   \n",
       "3   Food Processing  Disqualified         NaN     COLD  Anuj Singh Tomar   \n",
       "4        Automobile          Lead    Internal     COLD             Ikram   \n",
       "\n",
       "            STATE EA PROPOSAL CUSTOMER RESPONSE    WORK ORDER  \\\n",
       "0       Karnataka         YES                NO  NOT RECEIVED   \n",
       "1  Madhya Pradesh          NO               YES  NOT RECEIVED   \n",
       "2       Tamilnadu         YES                NO           NaN   \n",
       "3  Madhya Pradesh          NO               YES  NOT RECEIVED   \n",
       "4       Tamilnadu         YES                NO           NaN   \n",
       "\n",
       "                                             CONTACT  \n",
       "0                                                NaN  \n",
       "1  Pradeep Jain, Manager, pradeep.jain@avtec.in, ...  \n",
       "2                                                NaN  \n",
       "3       , Technical head, Atul pardesi, (7697900539)  \n",
       "4                                                NaN  "
      ]
     },
     "execution_count": 188,
     "metadata": {},
     "output_type": "execute_result"
    }
   ],
   "source": [
    "data_2.head()"
   ]
  },
  {
   "cell_type": "code",
   "execution_count": 191,
   "metadata": {
    "scrolled": false
   },
   "outputs": [
    {
     "data": {
      "text/plain": [
       "[Text(0, 0, 'Karnataka'),\n",
       " Text(0, 0, 'Madhya Pradesh'),\n",
       " Text(0, 0, 'Tamilnadu'),\n",
       " Text(0, 0, 'Punjab'),\n",
       " Text(0, 0, 'Pondicherry'),\n",
       " Text(0, 0, 'Maharashtra'),\n",
       " Text(0, 0, 'Andhra Pradesh'),\n",
       " Text(0, 0, 'Telangana')]"
      ]
     },
     "execution_count": 191,
     "metadata": {},
     "output_type": "execute_result"
    },
    {
     "data": {
      "image/png": "[encoded data removed]",
      "text/plain": [
       "<Figure size 842.4x595.44 with 1 Axes>"
      ]
     },
     "metadata": {},
     "output_type": "display_data"
    }
   ],
   "source": [
    "chart = sns.countplot(x= 'STATE', data = data_2)\n",
    "chart.set_xticklabels(chart.get_xticklabels(), rotation = 45, horizontalalignment = 'right')"
   ]
  },
  {
   "cell_type": "code",
   "execution_count": 194,
   "metadata": {},
   "outputs": [
    {
     "data": {
      "text/plain": [
       "[Text(0, 0, 'Food Processing'),\n",
       " Text(0, 0, 'Commercial'),\n",
       " Text(0, 0, 'Plastics'),\n",
       " Text(0, 0, 'Automobile'),\n",
       " Text(0, 0, 'Textile'),\n",
       " Text(0, 0, 'Forging and Castings'),\n",
       " Text(0, 0, 'Space'),\n",
       " Text(0, 0, 'Garments'),\n",
       " Text(0, 0, 'Hotel')]"
      ]
     },
     "execution_count": 194,
     "metadata": {},
     "output_type": "execute_result"
    },
    {
     "data": {
      "image/png": "[encoded data removed]",
      "text/plain": [
       "<Figure size 842.4x595.44 with 1 Axes>"
      ]
     },
     "metadata": {},
     "output_type": "display_data"
    }
   ],
   "source": [
    "chart = sns.countplot(x= 'CUSTOMER INDUSTRY', data = data_2.loc[(data_2['STATE'] == 'Karnataka') & (data_2['EA PROPOSAL'] == 'YES')])\n",
    "chart.set_xticklabels(chart.get_xticklabels(), rotation = 45, horizontalalignment = 'right')"
   ]
  },
  {
   "cell_type": "code",
   "execution_count": 190,
   "metadata": {},
   "outputs": [
    {
     "data": {
      "text/plain": [
       "[Text(0, 0, 'Food Processing'),\n",
       " Text(0, 0, 'Automobile'),\n",
       " Text(0, 0, 'Commercial'),\n",
       " Text(0, 0, 'Textile'),\n",
       " Text(0, 0, 'Glass'),\n",
       " Text(0, 0, 'Rubber'),\n",
       " Text(0, 0, 'Plastics'),\n",
       " Text(0, 0, 'Chemical'),\n",
       " Text(0, 0, 'Healthcare'),\n",
       " Text(0, 0, 'Ceramic'),\n",
       " Text(0, 0, 'Metals'),\n",
       " Text(0, 0, 'Forging and Castings'),\n",
       " Text(0, 0, 'Home appliances'),\n",
       " Text(0, 0, 'Space'),\n",
       " Text(0, 0, 'Garments'),\n",
       " Text(0, 0, 'Hotel')]"
      ]
     },
     "execution_count": 190,
     "metadata": {},
     "output_type": "execute_result"
    },
    {
     "data": {
      "image/png": "[encoded data removed]",
      "text/plain": [
       "<Figure size 842.4x595.44 with 1 Axes>"
      ]
     },
     "metadata": {},
     "output_type": "display_data"
    }
   ],
   "source": [
    "chart = sns.countplot(x= 'CUSTOMER INDUSTRY', data = data_2)\n",
    "chart.set_xticklabels(chart.get_xticklabels(), rotation = 45, horizontalalignment = 'right')"
   ]
  },
  {
   "cell_type": "code",
   "execution_count": 204,
   "metadata": {},
   "outputs": [
    {
     "data": {
      "text/html": [
       "<div>\n",
       "<style scoped>\n",
       "    .dataframe tbody tr th:only-of-type {\n",
       "        vertical-align: middle;\n",
       "    }\n",
       "\n",
       "    .dataframe tbody tr th {\n",
       "        vertical-align: top;\n",
       "    }\n",
       "\n",
       "    .dataframe thead th {\n",
       "        text-align: right;\n",
       "    }\n",
       "</style>\n",
       "<table border=\"1\" class=\"dataframe\">\n",
       "  <thead>\n",
       "    <tr style=\"text-align: right;\">\n",
       "      <th></th>\n",
       "      <th>CUSTOMER INDUSTRY</th>\n",
       "      <th>STATUS</th>\n",
       "      <th>LEAD SOURCE</th>\n",
       "      <th>PRIORITY</th>\n",
       "      <th>DEXLER CONTACT</th>\n",
       "      <th>STATE</th>\n",
       "      <th>EA PROPOSAL</th>\n",
       "      <th>CUSTOMER RESPONSE</th>\n",
       "      <th>CONTACT</th>\n",
       "    </tr>\n",
       "    <tr>\n",
       "      <th>WORK ORDER</th>\n",
       "      <th></th>\n",
       "      <th></th>\n",
       "      <th></th>\n",
       "      <th></th>\n",
       "      <th></th>\n",
       "      <th></th>\n",
       "      <th></th>\n",
       "      <th></th>\n",
       "      <th></th>\n",
       "    </tr>\n",
       "  </thead>\n",
       "  <tbody>\n",
       "    <tr>\n",
       "      <th>NOT INTERESTED</th>\n",
       "      <td>1</td>\n",
       "      <td>1</td>\n",
       "      <td>0</td>\n",
       "      <td>1</td>\n",
       "      <td>1</td>\n",
       "      <td>1</td>\n",
       "      <td>1</td>\n",
       "      <td>1</td>\n",
       "      <td>1</td>\n",
       "    </tr>\n",
       "    <tr>\n",
       "      <th>NOT RECEIVED</th>\n",
       "      <td>34</td>\n",
       "      <td>34</td>\n",
       "      <td>11</td>\n",
       "      <td>34</td>\n",
       "      <td>34</td>\n",
       "      <td>34</td>\n",
       "      <td>34</td>\n",
       "      <td>32</td>\n",
       "      <td>33</td>\n",
       "    </tr>\n",
       "    <tr>\n",
       "      <th>RECEIVED</th>\n",
       "      <td>9</td>\n",
       "      <td>9</td>\n",
       "      <td>5</td>\n",
       "      <td>9</td>\n",
       "      <td>9</td>\n",
       "      <td>9</td>\n",
       "      <td>9</td>\n",
       "      <td>8</td>\n",
       "      <td>5</td>\n",
       "    </tr>\n",
       "  </tbody>\n",
       "</table>\n",
       "</div>"
      ],
      "text/plain": [
       "                CUSTOMER INDUSTRY  STATUS  LEAD SOURCE  PRIORITY  \\\n",
       "WORK ORDER                                                         \n",
       "NOT INTERESTED                  1       1            0         1   \n",
       "NOT RECEIVED                   34      34           11        34   \n",
       "RECEIVED                        9       9            5         9   \n",
       "\n",
       "                DEXLER CONTACT  STATE  EA PROPOSAL  CUSTOMER RESPONSE  CONTACT  \n",
       "WORK ORDER                                                                      \n",
       "NOT INTERESTED               1      1            1                  1        1  \n",
       "NOT RECEIVED                34     34           34                 32       33  \n",
       "RECEIVED                     9      9            9                  8        5  "
      ]
     },
     "execution_count": 204,
     "metadata": {},
     "output_type": "execute_result"
    }
   ],
   "source": [
    "pie_data = data_2.groupby(\"WORK ORDER\").count()\n",
    "pie_data"
   ]
  },
  {
   "cell_type": "code",
   "execution_count": 208,
   "metadata": {},
   "outputs": [
    {
     "data": {
      "text/plain": [
       "([<matplotlib.patches.Wedge at 0x2896a0100b8>,\n",
       "  <matplotlib.patches.Wedge at 0x28969d39518>,\n",
       "  <matplotlib.patches.Wedge at 0x2896a010a58>],\n",
       " [Text(1.0971973259042975, 0.07847310385386075, 'NOT INTERESTED'),\n",
       "  Text(-0.9253788481504626, 0.5947049582740364, 'NOT RECEIVED'),\n",
       "  Text(0.8805952752433088, -0.6592055530858043, 'RECEIVED')])"
      ]
     },
     "execution_count": 208,
     "metadata": {},
     "output_type": "execute_result"
    },
    {
     "data": {
      "image/png": "[encoded data removed]",
      "text/plain": [
       "<Figure size 842.4x595.44 with 1 Axes>"
      ]
     },
     "metadata": {},
     "output_type": "display_data"
    }
   ],
   "source": [
    "pie(data_2.groupby(\"WORK ORDER\").count()[\"CUSTOMER INDUSTRY\"],labels=data_2.groupby(\"WORK ORDER\").count().index)"
   ]
  },
  {
   "cell_type": "code",
   "execution_count": 217,
   "metadata": {},
   "outputs": [
    {
     "data": {
      "text/plain": [
       "([<matplotlib.patches.Wedge at 0x2896b17a278>,\n",
       "  <matplotlib.patches.Wedge at 0x2896af1a438>],\n",
       " [Text(0.4382411947237756, 1.0089324334399594, 'No Contact (17)'),\n",
       "  Text(-0.43824110026070223, -1.0089324744710566, 'Contact (29)')])"
      ]
     },
     "execution_count": 217,
     "metadata": {},
     "output_type": "execute_result"
    },
    {
     "data": {
      "image/png": "[encoded data removed]",
      "text/plain": [
       "<Figure size 842.4x595.44 with 1 Axes>"
      ]
     },
     "metadata": {},
     "output_type": "display_data"
    }
   ],
   "source": [
    "num_con = data_2[\"CONTACT\"].isna().sum()\n",
    "num_con\n",
    "num_total = data_2[\"CONTACT\"].count()\n",
    "non_nan = num_total-num_con\n",
    "pie(pd.Series([num_con,non_nan]),labels=[\"No Contact (\"+str(num_con)+\")\" ,\"Contact (\"+str(non_nan)+\")\"])"
   ]
  },
  {
   "cell_type": "code",
   "execution_count": 218,
   "metadata": {},
   "outputs": [
    {
     "data": {
      "text/plain": [
       "([<matplotlib.patches.Wedge at 0x2896af632b0>,\n",
       "  <matplotlib.patches.Wedge at 0x2896aeeb128>],\n",
       " [Text(0.5018316954487894, 0.9788590038626573, 'NO'),\n",
       "  Text(-0.5018316038013927, -0.9788590508475273, 'YES')])"
      ]
     },
     "execution_count": 218,
     "metadata": {},
     "output_type": "execute_result"
    },
    {
     "data": {
      "image/png": "[encoded data removed]",
      "text/plain": [
       "<Figure size 842.4x595.44 with 1 Axes>"
      ]
     },
     "metadata": {},
     "output_type": "display_data"
    }
   ],
   "source": [
    "pie(data_2.groupby(\"EA PROPOSAL\").count()[\"CUSTOMER INDUSTRY\"],labels=data_2.groupby(\"EA PROPOSAL\").count().index)"
   ]
  },
  {
   "cell_type": "code",
   "execution_count": 219,
   "metadata": {},
   "outputs": [
    {
     "data": {
      "text/plain": [
       "([<matplotlib.patches.Wedge at 0x2896af94c50>,\n",
       "  <matplotlib.patches.Wedge at 0x2896af63a58>,\n",
       "  <matplotlib.patches.Wedge at 0x2896af9e630>,\n",
       "  <matplotlib.patches.Wedge at 0x2896af9eb00>],\n",
       " [Text(0.8426488837530798, 0.7070663750382201, 'Disqualified'),\n",
       "  Text(0.13677806061501951, 1.0914631290769259, 'Hold'),\n",
       "  Text(-0.8768457136504013, -0.6641849098352948, 'Lead'),\n",
       "  Text(1.0945338663710538, -0.10952449665181087, 'walk in audit required')])"
      ]
     },
     "execution_count": 219,
     "metadata": {},
     "output_type": "execute_result"
    },
    {
     "data": {
      "image/png": "[encoded data removed]",
      "text/plain": [
       "<Figure size 842.4x595.44 with 1 Axes>"
      ]
     },
     "metadata": {},
     "output_type": "display_data"
    }
   ],
   "source": [
    "pie(data_2.groupby(\"STATUS\").count()[\"CUSTOMER INDUSTRY\"],labels=data_2.groupby(\"STATUS\").count().index)"
   ]
  },
  {
   "cell_type": "code",
   "execution_count": null,
   "metadata": {},
   "outputs": [],
   "source": []
  }
 ],
 "metadata": {
  "kernelspec": {
   "display_name": "Python 3",
   "language": "python",
   "name": "python3"
  },
  "language_info": {
   "codemirror_mode": {
    "name": "ipython",
    "version": 3
   },
   "file_extension": ".py",
   "mimetype": "text/x-python",
   "name": "python",
   "nbconvert_exporter": "python",
   "pygments_lexer": "ipython3",
   "version": "3.7.3"
  }
 },
 "nbformat": 4,
 "nbformat_minor": 2
}
